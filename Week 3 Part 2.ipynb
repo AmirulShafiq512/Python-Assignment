{
 "cells": [
  {
   "cell_type": "code",
   "execution_count": 7,
   "id": "fbfc32dd",
   "metadata": {},
   "outputs": [
    {
     "name": "stdout",
     "output_type": "stream",
     "text": [
      "This is even number: 0\n",
      "This is even number: 2\n",
      "This is even number: 4\n",
      "This is even number: 6\n",
      "This is even number: 8\n"
     ]
    }
   ],
   "source": [
    "count = 0\n",
    "while (count <=10):\n",
    "    if count %2 ==0: #%2!= means not equal, if %2!== means equal to\n",
    "        print(\"This is even number:\", count)\n",
    "        if count == 8:\n",
    "            break\n",
    "    count=count+1\n",
    "    "
   ]
  },
  {
   "cell_type": "code",
   "execution_count": 14,
   "id": "246bb93b",
   "metadata": {},
   "outputs": [
    {
     "name": "stdout",
     "output_type": "stream",
     "text": [
      "1 pow 1 = 1.0\n",
      "1 pow 2 = 1.0\n",
      "1 pow 3 = 1.0\n",
      "1 pow 4 = 1.0\n",
      "1 pow 5 = 1.0\n",
      "-----\n",
      "2 pow 1 = 2.0\n",
      "2 pow 2 = 4.0\n",
      "2 pow 3 = 8.0\n",
      "2 pow 4 = 16.0\n",
      "2 pow 5 = 32.0\n",
      "-----\n",
      "3 pow 1 = 3.0\n",
      "3 pow 2 = 9.0\n",
      "3 pow 3 = 27.0\n",
      "3 pow 4 = 81.0\n",
      "3 pow 5 = 243.0\n",
      "-----\n",
      "4 pow 1 = 4.0\n",
      "4 pow 2 = 16.0\n",
      "4 pow 3 = 64.0\n",
      "4 pow 4 = 256.0\n",
      "4 pow 5 = 1024.0\n",
      "-----\n",
      "5 pow 1 = 5.0\n",
      "5 pow 2 = 25.0\n",
      "5 pow 3 = 125.0\n",
      "5 pow 4 = 625.0\n",
      "5 pow 5 = 3125.0\n",
      "-----\n"
     ]
    }
   ],
   "source": [
    "import math\n",
    "for i in range (1,6):\n",
    "    for j in range (1,6):\n",
    "        print(i,\"pow\", j, \"=\", math.pow(i,j))\n",
    "    print(\"-----\")"
   ]
  },
  {
   "cell_type": "code",
   "execution_count": 17,
   "id": "8b4e0bfd",
   "metadata": {},
   "outputs": [
    {
     "name": "stdout",
     "output_type": "stream",
     "text": [
      "1 x 1 = 1\n",
      "1 x 2 = 2\n",
      "1 x 3 = 3\n",
      "1 x 4 = 4\n",
      "1 x 5 = 5\n",
      "-----\n",
      "2 x 1 = 2\n",
      "2 x 2 = 4\n",
      "2 x 3 = 6\n",
      "2 x 4 = 8\n",
      "2 x 5 = 10\n",
      "-----\n",
      "3 x 1 = 3\n",
      "3 x 2 = 6\n",
      "3 x 3 = 9\n",
      "3 x 4 = 12\n",
      "3 x 5 = 15\n",
      "-----\n",
      "4 x 1 = 4\n",
      "4 x 2 = 8\n",
      "4 x 3 = 12\n",
      "4 x 4 = 16\n",
      "4 x 5 = 20\n",
      "-----\n",
      "5 x 1 = 5\n",
      "5 x 2 = 10\n",
      "5 x 3 = 15\n",
      "5 x 4 = 20\n",
      "5 x 5 = 25\n",
      "-----\n"
     ]
    }
   ],
   "source": [
    "import math\n",
    "for i in range (1,6):\n",
    "    for j in range (1,6):\n",
    "        print(i,\"x\", j, \"=\", (i*j))\n",
    "    print(\"-----\")"
   ]
  },
  {
   "cell_type": "code",
   "execution_count": 21,
   "id": "debfdd85",
   "metadata": {},
   "outputs": [
    {
     "name": "stdout",
     "output_type": "stream",
     "text": [
      "0\n",
      "1\n",
      "2\n",
      "3\n",
      "4\n",
      "5\n",
      "6\n",
      "7\n",
      "8\n",
      "9\n"
     ]
    }
   ],
   "source": [
    "count = 0\n",
    "while (count < 10):\n",
    "    print(count)\n",
    "    count = count+1 #if dont have this line, it will print infinite 0 because it stays at zero"
   ]
  },
  {
   "cell_type": "code",
   "execution_count": 3,
   "id": "dc829ceb",
   "metadata": {},
   "outputs": [
    {
     "name": "stdout",
     "output_type": "stream",
     "text": [
      "10.0\n"
     ]
    }
   ],
   "source": [
    "import math\n",
    "x= math.sqrt(100)\n",
    "print(x)"
   ]
  },
  {
   "cell_type": "code",
   "execution_count": 22,
   "id": "61dc073c",
   "metadata": {},
   "outputs": [
    {
     "name": "stdout",
     "output_type": "stream",
     "text": [
      "['apple', 'orange', 'cherry', 'durian', 'pineapple', 'kiwi', 'ciku']\n",
      "['apple', 'orange', 'cherry', 'durian', 'pineapple', 'kiwi', 'ciku']\n",
      "['apple', 'orange', 'cherry', 'durian', 'pineapple', 'kiwi', 'ciku']\n",
      "['apple', 'orange', 'cherry', 'durian', 'pineapple', 'kiwi', 'ciku']\n",
      "['apple', 'orange', 'cherry', 'durian', 'pineapple', 'kiwi', 'ciku']\n",
      "['apple', 'orange', 'cherry', 'durian', 'pineapple', 'kiwi', 'ciku']\n",
      "['apple', 'orange', 'cherry', 'durian', 'pineapple', 'kiwi', 'ciku']\n"
     ]
    }
   ],
   "source": [
    "fruits = [\"apple\",\"orange\",\"cherry\",\"durian\",\"pineapple\",\"kiwi\",\"ciku\"]\n",
    "for fruit in fruits:\n",
    "    print(fruits)"
   ]
  },
  {
   "cell_type": "markdown",
   "id": "ccb06add",
   "metadata": {},
   "source": [
    "#Use for loop to find a given fruit name in the list"
   ]
  },
  {
   "cell_type": "code",
   "execution_count": 23,
   "id": "08d76bda",
   "metadata": {},
   "outputs": [
    {
     "name": "stdout",
     "output_type": "stream",
     "text": [
      "apple\n",
      "orange\n",
      "cherry\n",
      "durian\n",
      "pineapple\n",
      "kiwi\n",
      "ciku\n"
     ]
    }
   ],
   "source": [
    "for fruit in fruits:\n",
    "    print(fruit)"
   ]
  },
  {
   "cell_type": "code",
   "execution_count": 28,
   "id": "07bcc56a",
   "metadata": {},
   "outputs": [
    {
     "name": "stdout",
     "output_type": "stream",
     "text": [
      "The fruit apple is in the list at index: 1\n",
      "The fruit apple is in the list at index: 5\n"
     ]
    }
   ],
   "source": [
    "index=1\n",
    "for item in fruits:\n",
    "    if \"apple\" in item: #if use ==, it will take exact apple. If  use 'in', it will show to apple (apple and pineapple)\n",
    "        print(\"The fruit apple is in the list at index:\", index)\n",
    "    #print(\"The fruit name is \"+ item + \" at index:\",index)\n",
    "    index +=1 #can write index=index+1"
   ]
  },
  {
   "cell_type": "code",
   "execution_count": 11,
   "id": "810f93df",
   "metadata": {},
   "outputs": [
    {
     "data": {
      "text/plain": [
       "list"
      ]
     },
     "execution_count": 11,
     "metadata": {},
     "output_type": "execute_result"
    }
   ],
   "source": [
    "type(fruits)"
   ]
  },
  {
   "cell_type": "code",
   "execution_count": 12,
   "id": "abfb2275",
   "metadata": {},
   "outputs": [
    {
     "data": {
      "text/plain": [
       "4"
      ]
     },
     "execution_count": 12,
     "metadata": {},
     "output_type": "execute_result"
    }
   ],
   "source": [
    "len(fruits)"
   ]
  },
  {
   "cell_type": "code",
   "execution_count": 29,
   "id": "fda8783f",
   "metadata": {},
   "outputs": [
    {
     "name": "stdout",
     "output_type": "stream",
     "text": [
      "0\n",
      "1\n",
      "2\n",
      "3\n",
      "4\n",
      "5\n",
      "6\n",
      "7\n",
      "8\n",
      "9\n"
     ]
    }
   ],
   "source": [
    "for x in range(10):\n",
    "    print(x)"
   ]
  },
  {
   "cell_type": "code",
   "execution_count": 33,
   "id": "18c850b2",
   "metadata": {},
   "outputs": [
    {
     "name": "stdout",
     "output_type": "stream",
     "text": [
      "1\n",
      "2\n",
      "3\n",
      "4\n",
      "5\n",
      "6\n",
      "7\n",
      "8\n",
      "9\n"
     ]
    }
   ],
   "source": [
    "for item in range(1,10):\n",
    "    print(item)"
   ]
  },
  {
   "cell_type": "code",
   "execution_count": 35,
   "id": "1f84c48b",
   "metadata": {},
   "outputs": [
    {
     "name": "stdout",
     "output_type": "stream",
     "text": [
      "0\n",
      "1\n",
      "2\n",
      "3\n",
      "4\n",
      "5\n",
      "6\n",
      "7\n",
      "8\n",
      "9\n",
      "10\n"
     ]
    }
   ],
   "source": [
    "count = 0\n",
    "while (count <= 10): # <= means 'less than and equal\", < means 'less than'\n",
    "    print(count)\n",
    "    count= count+1"
   ]
  },
  {
   "cell_type": "code",
   "execution_count": 39,
   "id": "ea2aa069",
   "metadata": {},
   "outputs": [
    {
     "name": "stdout",
     "output_type": "stream",
     "text": [
      "This is even number: 2\n",
      "This is even number: 4\n",
      "This is even number: 6\n",
      "This is even number: 8\n",
      "This is even number: 10\n"
     ]
    }
   ],
   "source": [
    "count = 1\n",
    "while (count <= 10):# <= means 'less than and equal\", < means 'less than'\n",
    "    if count %2 == 0:# %2 == means divisible by 2 with no remainder\n",
    "        print(\"This is even number:\", count)\n",
    "    count= count+1"
   ]
  },
  {
   "cell_type": "code",
   "execution_count": 40,
   "id": "5eb4e9f1",
   "metadata": {},
   "outputs": [
    {
     "name": "stdout",
     "output_type": "stream",
     "text": [
      "This is odd number: 1\n",
      "This is odd number: 3\n",
      "This is odd number: 5\n",
      "This is odd number: 7\n",
      "This is odd number: 9\n"
     ]
    }
   ],
   "source": [
    "count = 1\n",
    "while (count <= 10):# <= means 'less than and equal\", < means 'less than'\n",
    "    if count %2!= 0:# %2!= means not divisible by 2(remainder)\n",
    "        print(\"This is odd number:\", count)\n",
    "    count= count+1"
   ]
  },
  {
   "cell_type": "code",
   "execution_count": 42,
   "id": "d026ffd8",
   "metadata": {},
   "outputs": [
    {
     "name": "stdout",
     "output_type": "stream",
     "text": [
      "This is even number: 2\n"
     ]
    }
   ],
   "source": [
    "count = 1\n",
    "while (count <= 10):# <= means 'less than and equal\", < means 'less than'\n",
    "    if count %2 == 0:# %2 == means divisible by 2 with no remainder\n",
    "        print(\"This is even number:\", count)\n",
    "        break\n",
    "    count= count+1"
   ]
  },
  {
   "cell_type": "code",
   "execution_count": 48,
   "id": "2cdbe520",
   "metadata": {},
   "outputs": [
    {
     "name": "stdout",
     "output_type": "stream",
     "text": [
      "1\n",
      "2\n",
      "3\n",
      "4\n",
      "5\n"
     ]
    }
   ],
   "source": [
    "for num in range(1,10):\n",
    "    if num > 5:\n",
    "        break\n",
    "    print(num)"
   ]
  },
  {
   "cell_type": "code",
   "execution_count": null,
   "id": "ca4a06c2",
   "metadata": {},
   "outputs": [
    {
     "name": "stdout",
     "output_type": "stream",
     "text": [
      "This is odd number: 1\n"
     ]
    }
   ],
   "source": [
    "count = 1\n",
    "while (count <= 10):# <= means 'less than and equal\", < means 'less than'\n",
    "    if count %2 == 0:# %2 == means divisible by 2 with no remainder\n",
    "        continue\n",
    "    print(\"This is odd number:\", count)\n",
    "        \n",
    "    count= count+1"
   ]
  },
  {
   "cell_type": "code",
   "execution_count": null,
   "id": "9e797e5f",
   "metadata": {},
   "outputs": [],
   "source": []
  },
  {
   "cell_type": "code",
   "execution_count": null,
   "id": "8819a579",
   "metadata": {},
   "outputs": [],
   "source": [
    "for num in range(5):\n",
    "    if num == 5:\n",
    "        continue\n",
    "    print(num)"
   ]
  },
  {
   "cell_type": "code",
   "execution_count": null,
   "id": "ef2c9b81",
   "metadata": {},
   "outputs": [],
   "source": []
  }
 ],
 "metadata": {
  "kernelspec": {
   "display_name": "Python 3 (ipykernel)",
   "language": "python",
   "name": "python3"
  },
  "language_info": {
   "codemirror_mode": {
    "name": "ipython",
    "version": 3
   },
   "file_extension": ".py",
   "mimetype": "text/x-python",
   "name": "python",
   "nbconvert_exporter": "python",
   "pygments_lexer": "ipython3",
   "version": "3.11.5"
  }
 },
 "nbformat": 4,
 "nbformat_minor": 5
}
