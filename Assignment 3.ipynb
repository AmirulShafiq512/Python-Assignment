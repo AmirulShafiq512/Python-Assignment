{
 "cells": [
  {
   "cell_type": "code",
   "execution_count": 3,
   "id": "1abc0550",
   "metadata": {},
   "outputs": [
    {
     "name": "stdout",
     "output_type": "stream",
     "text": [
      "Enter the first number: 1\n",
      "Enter the second number: 2\n",
      "Enter the operation (+, -, *, /): /\n",
      "Result: 0.5\n"
     ]
    }
   ],
   "source": [
    "def simple_calculator():\n",
    "    while True:\n",
    "        try:\n",
    "            # Get user input for numbers and operation\n",
    "            num1 = float(input(\"Enter the first number: \"))\n",
    "            num2 = float(input(\"Enter the second number: \"))\n",
    "            operation = input(\"Enter the operation (+, -, *, /): \")\n",
    "\n",
    "            # Perform the chosen operation\n",
    "            if operation == '+':\n",
    "                result = num1 + num2\n",
    "            elif operation == '-':\n",
    "                result = num1 - num2\n",
    "            elif operation == '*':\n",
    "                result = num1 * num2\n",
    "            elif operation == '/':\n",
    "                # Check for division by zero\n",
    "                if num2 == 0:\n",
    "                    raise ZeroDivisionError(\"Cannot divide by zero. Please enter a non-zero second number.\")\n",
    "                result = num1 / num2\n",
    "            else:\n",
    "                raise ValueError(\"Invalid operation. Please enter +, -, *, or /.\")\n",
    "\n",
    "            # Display the result\n",
    "            print(\"Result:\", result)\n",
    "            break  # Break out of the loop if successful\n",
    "\n",
    "        except ValueError as ve:\n",
    "            print(f\"Error: {ve}. Please enter valid numbers.\")\n",
    "        except ZeroDivisionError as zde:\n",
    "            print(f\"Error: {zde}\")\n",
    "        except Exception as e:\n",
    "            print(f\"An unexpected error occurred: {e}. Please try again.\")\n",
    "\n",
    "# Call the function to run the calculator\n",
    "simple_calculator()"
   ]
  },
  {
   "cell_type": "code",
   "execution_count": 3,
   "id": "394142aa",
   "metadata": {},
   "outputs": [
    {
     "name": "stdout",
     "output_type": "stream",
     "text": [
      "Enter the first number: 100\n",
      "Enter the second number: 20\n",
      "Enter the operation (+, -, *, /): -\n",
      "Result: 80.0\n"
     ]
    }
   ],
   "source": [
    "def simple_calculator():\n",
    "    while True:\n",
    "        try:\n",
    "            # Get user input for numbers and operation\n",
    "            num1 = float(input(\"Enter the first number: \"))\n",
    "            num2 = float(input(\"Enter the second number: \"))\n",
    "            operation = input(\"Enter the operation (+, -, *, /): \")\n",
    "\n",
    "            # Perform the chosen operation\n",
    "            if operation == '+':\n",
    "                result = num1 + num2\n",
    "            elif operation == '-':\n",
    "                result = num1 - num2\n",
    "            elif operation == '*':\n",
    "                result = num1 * num2\n",
    "            elif operation == '/':\n",
    "                # Check for division by zero\n",
    "                if num2 == 0:\n",
    "                    raise ZeroDivisionError(\"Cannot divide by zero. Please enter a non-zero second number.\")\n",
    "                result = num1 / num2\n",
    "            else:\n",
    "                raise ValueError(\"Invalid operation. Please enter +, -, *, or /.\")\n",
    "                continue\n",
    "\n",
    "            # Display the result\n",
    "            print(\"Result:\", result)\n",
    "            break  # Break out of the loop if successful\n",
    "\n",
    "        except ValueError:\n",
    "            print( \"Please enter valid numbers.\")\n",
    "        except ZeroDivisionError:\n",
    "            print(\"Cannot divide by zero\")\n",
    "        except Exception as e:\n",
    "            print(f\"An unexpected error occurred: {e}. Please try again.\")\n",
    "\n",
    "# Call the function to run the calculator\n",
    "simple_calculator()"
   ]
  },
  {
   "cell_type": "code",
   "execution_count": null,
   "id": "d6315516",
   "metadata": {},
   "outputs": [],
   "source": []
  }
 ],
 "metadata": {
  "kernelspec": {
   "display_name": "Python 3 (ipykernel)",
   "language": "python",
   "name": "python3"
  },
  "language_info": {
   "codemirror_mode": {
    "name": "ipython",
    "version": 3
   },
   "file_extension": ".py",
   "mimetype": "text/x-python",
   "name": "python",
   "nbconvert_exporter": "python",
   "pygments_lexer": "ipython3",
   "version": "3.11.5"
  }
 },
 "nbformat": 4,
 "nbformat_minor": 5
}
