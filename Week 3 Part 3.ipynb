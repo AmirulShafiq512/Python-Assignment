{
 "cells": [
  {
   "cell_type": "code",
   "execution_count": 1,
   "id": "2a9a1eab",
   "metadata": {},
   "outputs": [
    {
     "name": "stdout",
     "output_type": "stream",
     "text": [
      "0\n",
      "1\n",
      "3\n",
      "4\n"
     ]
    }
   ],
   "source": [
    "for num in range(5):\n",
    "    if num == 2:\n",
    "        continue\n",
    "    print(num)\n",
    "\n"
   ]
  },
  {
   "cell_type": "code",
   "execution_count": 4,
   "id": "03f6230a",
   "metadata": {},
   "outputs": [
    {
     "name": "stdout",
     "output_type": "stream",
     "text": [
      "1\n",
      "2\n",
      "3\n",
      "4\n"
     ]
    },
    {
     "ename": "KeyboardInterrupt",
     "evalue": "",
     "output_type": "error",
     "traceback": [
      "\u001b[1;31m---------------------------------------------------------------------------\u001b[0m",
      "\u001b[1;31mKeyboardInterrupt\u001b[0m                         Traceback (most recent call last)",
      "Cell \u001b[1;32mIn[4], line 4\u001b[0m\n\u001b[0;32m      2\u001b[0m \u001b[38;5;28;01mwhile\u001b[39;00m (count \u001b[38;5;241m<\u001b[39m\u001b[38;5;241m=\u001b[39m \u001b[38;5;241m10\u001b[39m):\n\u001b[0;32m      3\u001b[0m     \u001b[38;5;28;01mif\u001b[39;00m count \u001b[38;5;241m==\u001b[39m \u001b[38;5;241m5\u001b[39m:\n\u001b[1;32m----> 4\u001b[0m         \u001b[38;5;28;01mcontinue\u001b[39;00m\n\u001b[0;32m      5\u001b[0m     \u001b[38;5;28mprint\u001b[39m(count)\n\u001b[0;32m      6\u001b[0m     count \u001b[38;5;241m=\u001b[39m count\u001b[38;5;241m+\u001b[39m\u001b[38;5;241m1\u001b[39m\n",
      "\u001b[1;31mKeyboardInterrupt\u001b[0m: "
     ]
    }
   ],
   "source": [
    "count = 1\n",
    "while (count <= 10):\n",
    "    if count == 5:\n",
    "        continue\n",
    "    print(count)\n",
    "    count = count+1\n",
    "          "
   ]
  },
  {
   "cell_type": "code",
   "execution_count": 5,
   "id": "4126ff06",
   "metadata": {},
   "outputs": [
    {
     "name": "stdout",
     "output_type": "stream",
     "text": [
      "0\n",
      "1\n",
      "2\n",
      "3\n",
      "4\n",
      "6\n",
      "7\n",
      "8\n",
      "9\n"
     ]
    }
   ],
   "source": [
    "for num in range(10):\n",
    "    if num == 5:\n",
    "        continue\n",
    "    print(num)"
   ]
  },
  {
   "cell_type": "code",
   "execution_count": 8,
   "id": "b192c7ab",
   "metadata": {},
   "outputs": [
    {
     "name": "stdout",
     "output_type": "stream",
     "text": [
      "0 0\n",
      "0 1\n",
      "0 2\n",
      "1 0\n",
      "1 1\n",
      "1 2\n",
      "2 0\n",
      "2 1\n",
      "2 2\n"
     ]
    }
   ],
   "source": [
    "for i in range(3):\n",
    "    for j in range(3):\n",
    "        print(i,j)"
   ]
  },
  {
   "cell_type": "code",
   "execution_count": 9,
   "id": "3d906c45",
   "metadata": {},
   "outputs": [
    {
     "name": "stdout",
     "output_type": "stream",
     "text": [
      "1 1\n",
      "1 2\n",
      "1 3\n",
      "1 4\n",
      "1 5\n",
      "1 6\n",
      "1 7\n",
      "1 8\n",
      "1 9\n",
      "1 10\n",
      "2 1\n",
      "2 2\n",
      "2 3\n",
      "2 4\n",
      "2 5\n",
      "2 6\n",
      "2 7\n",
      "2 8\n",
      "2 9\n",
      "2 10\n",
      "3 1\n",
      "3 2\n",
      "3 3\n",
      "3 4\n",
      "3 5\n",
      "3 6\n",
      "3 7\n",
      "3 8\n",
      "3 9\n",
      "3 10\n",
      "4 1\n",
      "4 2\n",
      "4 3\n",
      "4 4\n",
      "4 5\n",
      "4 6\n",
      "4 7\n",
      "4 8\n",
      "4 9\n",
      "4 10\n",
      "5 1\n",
      "5 2\n",
      "5 3\n",
      "5 4\n",
      "5 5\n",
      "5 6\n",
      "5 7\n",
      "5 8\n",
      "5 9\n",
      "5 10\n",
      "6 1\n",
      "6 2\n",
      "6 3\n",
      "6 4\n",
      "6 5\n",
      "6 6\n",
      "6 7\n",
      "6 8\n",
      "6 9\n",
      "6 10\n",
      "7 1\n",
      "7 2\n",
      "7 3\n",
      "7 4\n",
      "7 5\n",
      "7 6\n",
      "7 7\n",
      "7 8\n",
      "7 9\n",
      "7 10\n",
      "8 1\n",
      "8 2\n",
      "8 3\n",
      "8 4\n",
      "8 5\n",
      "8 6\n",
      "8 7\n",
      "8 8\n",
      "8 9\n",
      "8 10\n",
      "9 1\n",
      "9 2\n",
      "9 3\n",
      "9 4\n",
      "9 5\n",
      "9 6\n",
      "9 7\n",
      "9 8\n",
      "9 9\n",
      "9 10\n",
      "10 1\n",
      "10 2\n",
      "10 3\n",
      "10 4\n",
      "10 5\n",
      "10 6\n",
      "10 7\n",
      "10 8\n",
      "10 9\n",
      "10 10\n"
     ]
    }
   ],
   "source": [
    "for i in range(1,11):\n",
    "    for j in range(1,11):\n",
    "        print(i,j)"
   ]
  },
  {
   "cell_type": "code",
   "execution_count": 13,
   "id": "a9e1c77d",
   "metadata": {},
   "outputs": [
    {
     "name": "stdout",
     "output_type": "stream",
     "text": [
      "1 x 1 = 1\n",
      "1 x 2 = 2\n",
      "1 x 3 = 3\n",
      "1 x 4 = 4\n",
      "1 x 5 = 5\n",
      "-----\n",
      "2 x 1 = 2\n",
      "2 x 2 = 4\n",
      "2 x 3 = 6\n",
      "2 x 4 = 8\n",
      "2 x 5 = 10\n",
      "-----\n",
      "3 x 1 = 3\n",
      "3 x 2 = 6\n",
      "3 x 3 = 9\n",
      "3 x 4 = 12\n",
      "3 x 5 = 15\n",
      "-----\n",
      "4 x 1 = 4\n",
      "4 x 2 = 8\n",
      "4 x 3 = 12\n",
      "4 x 4 = 16\n",
      "4 x 5 = 20\n",
      "-----\n",
      "5 x 1 = 5\n",
      "5 x 2 = 10\n",
      "5 x 3 = 15\n",
      "5 x 4 = 20\n",
      "5 x 5 = 25\n",
      "-----\n"
     ]
    }
   ],
   "source": [
    "for i in range (1,6):\n",
    "    for j in range (1,6):\n",
    "        print(i,\"x\", j, \"=\", (i*j))\n",
    "    print(\"-----\")"
   ]
  },
  {
   "cell_type": "code",
   "execution_count": 14,
   "id": "a3919e3c",
   "metadata": {},
   "outputs": [
    {
     "name": "stdout",
     "output_type": "stream",
     "text": [
      "1 x 1 = 1.0\n",
      "1 x 2 = 0.5\n",
      "1 x 3 = 0.3333333333333333\n",
      "1 x 4 = 0.25\n",
      "1 x 5 = 0.2\n",
      "-----\n",
      "2 x 1 = 2.0\n",
      "2 x 2 = 1.0\n",
      "2 x 3 = 0.6666666666666666\n",
      "2 x 4 = 0.5\n",
      "2 x 5 = 0.4\n",
      "-----\n",
      "3 x 1 = 3.0\n",
      "3 x 2 = 1.5\n",
      "3 x 3 = 1.0\n",
      "3 x 4 = 0.75\n",
      "3 x 5 = 0.6\n",
      "-----\n",
      "4 x 1 = 4.0\n",
      "4 x 2 = 2.0\n",
      "4 x 3 = 1.3333333333333333\n",
      "4 x 4 = 1.0\n",
      "4 x 5 = 0.8\n",
      "-----\n",
      "5 x 1 = 5.0\n",
      "5 x 2 = 2.5\n",
      "5 x 3 = 1.6666666666666667\n",
      "5 x 4 = 1.25\n",
      "5 x 5 = 1.0\n",
      "-----\n"
     ]
    }
   ],
   "source": [
    "for i in range (1,6):\n",
    "    for j in range (1,6):\n",
    "        print(i,\"x\", j, \"=\", (i/j))\n",
    "    print(\"-----\")"
   ]
  },
  {
   "cell_type": "code",
   "execution_count": 16,
   "id": "4756f1f8",
   "metadata": {},
   "outputs": [
    {
     "name": "stdout",
     "output_type": "stream",
     "text": [
      "1 x 1 = 1.0\n",
      "1 x 2 = 1.4142135623730951\n",
      "1 x 3 = 1.7320508075688772\n",
      "1 x 4 = 2.0\n",
      "1 x 5 = 2.23606797749979\n",
      "-----\n",
      "2 x 1 = 1.4142135623730951\n",
      "2 x 2 = 2.0\n",
      "2 x 3 = 2.449489742783178\n",
      "2 x 4 = 2.8284271247461903\n",
      "2 x 5 = 3.1622776601683795\n",
      "-----\n",
      "3 x 1 = 1.7320508075688772\n",
      "3 x 2 = 2.449489742783178\n",
      "3 x 3 = 3.0\n",
      "3 x 4 = 3.4641016151377544\n",
      "3 x 5 = 3.872983346207417\n",
      "-----\n",
      "4 x 1 = 2.0\n",
      "4 x 2 = 2.8284271247461903\n",
      "4 x 3 = 3.4641016151377544\n",
      "4 x 4 = 4.0\n",
      "4 x 5 = 4.47213595499958\n",
      "-----\n",
      "5 x 1 = 2.23606797749979\n",
      "5 x 2 = 3.1622776601683795\n",
      "5 x 3 = 3.872983346207417\n",
      "5 x 4 = 4.47213595499958\n",
      "5 x 5 = 5.0\n",
      "-----\n"
     ]
    }
   ],
   "source": [
    "import math\n",
    "for i in range (1,6):\n",
    "    for j in range (1,6):\n",
    "        print(i,\"x\", j, \"=\", math.sqrt(i*j))\n",
    "    print(\"-----\")"
   ]
  },
  {
   "cell_type": "code",
   "execution_count": 20,
   "id": "e04c7ea1",
   "metadata": {},
   "outputs": [
    {
     "name": "stdout",
     "output_type": "stream",
     "text": [
      "1 pow 1 = 1.0\n",
      "1 pow 2 = 1.0\n",
      "1 pow 3 = 1.0\n",
      "1 pow 4 = 1.0\n",
      "1 pow 5 = 1.0\n",
      "-----\n",
      "2 pow 1 = 2.0\n",
      "2 pow 2 = 4.0\n",
      "2 pow 3 = 8.0\n",
      "2 pow 4 = 16.0\n",
      "2 pow 5 = 32.0\n",
      "-----\n",
      "3 pow 1 = 3.0\n",
      "3 pow 2 = 9.0\n",
      "3 pow 3 = 27.0\n",
      "3 pow 4 = 81.0\n",
      "3 pow 5 = 243.0\n",
      "-----\n",
      "4 pow 1 = 4.0\n",
      "4 pow 2 = 16.0\n",
      "4 pow 3 = 64.0\n",
      "4 pow 4 = 256.0\n",
      "4 pow 5 = 1024.0\n",
      "-----\n",
      "5 pow 1 = 5.0\n",
      "5 pow 2 = 25.0\n",
      "5 pow 3 = 125.0\n",
      "5 pow 4 = 625.0\n",
      "5 pow 5 = 3125.0\n",
      "-----\n"
     ]
    }
   ],
   "source": [
    "import math\n",
    "for i in range (1,6):\n",
    "    for j in range (1,6):\n",
    "        print(i,\"pow\", j, \"=\", math.pow(i,j)) #can write i**j or math.pow(i,j) *CAN ALSO INSTALL MATH LIBRARY \n",
    "    print(\"-----\") #CAN SEARCH MATH LIBRARY PYTHON"
   ]
  },
  {
   "cell_type": "code",
   "execution_count": 23,
   "id": "ced23fe9",
   "metadata": {},
   "outputs": [
    {
     "name": "stdout",
     "output_type": "stream",
     "text": [
      "This is even number: 2\n",
      "This is even number: 4\n",
      "This is even number: 6\n",
      "This is even number: 8\n",
      "This is even number: 10\n"
     ]
    }
   ],
   "source": [
    "numbers = [1, 2, 3, 4, 5, 6, 7, 8, 9, 10]\n",
    " \n",
    "for num in numbers:\n",
    "    if num % 2 == 0:\n",
    "        print(\"This is even number:\", num)\n"
   ]
  },
  {
   "cell_type": "code",
   "execution_count": null,
   "id": "e53664dd",
   "metadata": {},
   "outputs": [],
   "source": []
  }
 ],
 "metadata": {
  "kernelspec": {
   "display_name": "Python 3 (ipykernel)",
   "language": "python",
   "name": "python3"
  },
  "language_info": {
   "codemirror_mode": {
    "name": "ipython",
    "version": 3
   },
   "file_extension": ".py",
   "mimetype": "text/x-python",
   "name": "python",
   "nbconvert_exporter": "python",
   "pygments_lexer": "ipython3",
   "version": "3.11.5"
  }
 },
 "nbformat": 4,
 "nbformat_minor": 5
}
