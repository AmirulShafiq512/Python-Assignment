{
 "cells": [
  {
   "cell_type": "code",
   "execution_count": 1,
   "id": "1269308c",
   "metadata": {},
   "outputs": [
    {
     "name": "stdout",
     "output_type": "stream",
     "text": [
      "[[2 4 6]\n",
      " [5 3 2]\n",
      " [7 8 9]]\n",
      "[18 13 30]\n",
      "[ 4.5 -7.5  6.5]\n"
     ]
    }
   ],
   "source": [
    "import numpy as np\n",
    "import scipy as sc\n",
    "\n",
    "A=np.array([[2,4,6],[5,3,2],[7,8,9]]) #Define the coefficient matrix A\n",
    "print(A)\n",
    "\n",
    "b=np.array([18,13,30]) #Define the right hand side vector b\n",
    "print(b)\n",
    "\n",
    "D=sc.linalg.solve(A,b) #use the solve function to find the solution vector directly\n",
    "print(D)\n"
   ]
  },
  {
   "cell_type": "code",
   "execution_count": 2,
   "id": "f1a77c66",
   "metadata": {},
   "outputs": [
    {
     "data": {
      "image/png": "[encoded data removed]",
      "text/plain": [
       "<Figure size 640x480 with 1 Axes>"
      ]
     },
     "metadata": {},
     "output_type": "display_data"
    }
   ],
   "source": [
    "import numpy as np\n",
    "import matplotlib.pyplot as plt\n",
    "from scipy.integrate import odeint\n",
    "\n",
    "# Define the ODE function\n",
    "def model(y, t):\n",
    "    dydt = -2 * y * t\n",
    "    return dydt\n",
    "\n",
    "# Set the initial condition\n",
    "y0 = 1.0\n",
    "\n",
    "# Create a time array from 0 to 2 with small time steps\n",
    "t = np.linspace(0, 2, 2)\n",
    "\n",
    "# Solve the ODE using odeint\n",
    "y = odeint(model, y0, t)\n",
    "\n",
    "# Plot the solution\n",
    "plt.plot(t, y, label='y(t)')\n",
    "plt.xlabel('t')\n",
    "plt.ylabel('y(t)')\n",
    "plt.title('y(t) versus t')\n",
    "plt.legend()\n",
    "plt.show()"
   ]
  },
  {
   "cell_type": "code",
   "execution_count": null,
   "id": "7bc52610",
   "metadata": {},
   "outputs": [
    {
     "name": "stdout",
     "output_type": "stream",
     "text": [
      "Enter latitude: 2.375\n",
      "Enter longitude: 112.5\n",
      "Enter timezone (e.g., Asia/Singapore): Asia\n",
      "Enter number of forecast days (1-16): 5\n",
      "Enter the elevation: 272\n",
      "Error making the API request: 400 Client Error: Bad Request for url: https://api.open-meteo.com/v1/forecast?latitude=2.375&longitude=112.5&timezone=Asia&forecast_days=5&elevation=272\n"
     ]
    }
   ],
   "source": [
    "import requests\n",
    "import matplotlib.pyplot as plt\n",
    "\n",
    "def get_weather_forecast(latitude, longitude, timezone, forecast_days, elevation):\n",
    "    api_url = \"https://api.open-meteo.com/v1/forecast\"\n",
    "    params = {\n",
    "        \"latitude\": latitude,\n",
    "        \"longitude\": longitude,\n",
    "        \"timezone\": timezone,\n",
    "        \"forecast_days\": forecast_days,\n",
    "        \"elevation\": elevation\n",
    "        \n",
    "    }\n",
    "\n",
    "    response = requests.get(api_url, params=params)\n",
    "\n",
    "    # Check for errors in the response\n",
    "    response.raise_for_status()\n",
    "\n",
    "    data = response.json()\n",
    "    return data\n",
    "\n",
    "def plot_temperature_trend(data, latitude, longitude, forecast_days):\n",
    "    hourly_data = data['hourly']['temperature_2m']\n",
    "\n",
    "    hours = [entry['timestamp'] for entry in hourly_data]\n",
    "    temperatures = [entry['value'] for entry in hourly_data]\n",
    "#Plot graph\n",
    "    plt.plot(hours, temperatures, marker='o')\n",
    "    plt.xlabel('Hour')\n",
    "    plt.ylabel('Temperature (°C)')\n",
    "    plt.title(f'Hourly Temperature Trend\\nLatitude: {latitude}, Longitude: {longitude}, Forecast Days: {forecast_days}, Elevation: {elevation}')\n",
    "    plt.xticks(rotation=45)\n",
    "    plt.grid(True)\n",
    "    plt.show()\n",
    "#Prompt user to insert input\n",
    "def main():\n",
    "    while True:\n",
    "        try:\n",
    "            latitude = input(\"Enter latitude: \")\n",
    "            longitude = input(\"Enter longitude: \")\n",
    "            timezone = input(\"Enter timezone (e.g., Asia/Singapore): \")\n",
    "            forecast_days = int(input(\"Enter number of forecast days (1-16): \"))\n",
    "            elevation = input(\"Enter the elevation: \")\n",
    "\n",
    "            if not (1 <= forecast_days <= 16):\n",
    "                print(\"Please enter a valid number of forecast days (1-16).\")\n",
    "                continue\n",
    "\n",
    "            data = get_weather_forecast(latitude, longitude, timezone, forecast_days,elevation)\n",
    "            plot_temperature_trend(data, latitude, longitude, forecast_days,elevation)\n",
    "\n",
    "        except requests.exceptions.RequestException as e: #Error Handling\n",
    "            print(f\"Error making the API request: {e}\")\n",
    "        except ValueError:\n",
    "            print(\"Invalid input. Please enter a valid number.\")\n",
    "        except Exception as e:\n",
    "            print(f\"An unexpected error occurred: {e}\")\n",
    "\n",
    "        reforecast = input(\"Do you want to reforecast with a different number of days? (yes/no): \").lower()\n",
    "        if reforecast != 'yes': #Give options for user to reforecast or exit the program\n",
    "            break\n",
    "\n",
    "if __name__ == \"__main__\":\n",
    "    main()"
   ]
  },
  {
   "cell_type": "code",
   "execution_count": null,
   "id": "6de3b9c4",
   "metadata": {},
   "outputs": [],
   "source": []
  }
 ],
 "metadata": {
  "kernelspec": {
   "display_name": "Python 3 (ipykernel)",
   "language": "python",
   "name": "python3"
  },
  "language_info": {
   "codemirror_mode": {
    "name": "ipython",
    "version": 3
   },
   "file_extension": ".py",
   "mimetype": "text/x-python",
   "name": "python",
   "nbconvert_exporter": "python",
   "pygments_lexer": "ipython3",
   "version": "3.11.5"
  }
 },
 "nbformat": 4,
 "nbformat_minor": 5
}
