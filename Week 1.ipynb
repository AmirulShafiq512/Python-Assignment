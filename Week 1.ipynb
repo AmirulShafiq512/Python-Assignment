{
 "cells": [
  {
   "cell_type": "code",
   "execution_count": 28,
   "id": "89cb05d1",
   "metadata": {},
   "outputs": [
    {
     "name": "stdout",
     "output_type": "stream",
     "text": [
      "B\n",
      "Good\n"
     ]
    }
   ],
   "source": [
    "grade = input()\n",
    "if grade == \"A\":\n",
    "    print(\"Congratulations!\")\n",
    "elif grade == \"B\":\n",
    "    print(\"Good\")\n",
    "elif grade ==\"C\":\n",
    "    print(\"Pass\")\n",
    "else:\n",
    "    print(\"No such grade in the system\")\n"
   ]
  },
  {
   "cell_type": "code",
   "execution_count": 24,
   "id": "3c291322",
   "metadata": {},
   "outputs": [
    {
     "name": "stdout",
     "output_type": "stream",
     "text": [
      "<class 'str'>\n"
     ]
    }
   ],
   "source": [
    "print(type(grade))\n"
   ]
  },
  {
   "cell_type": "code",
   "execution_count": 25,
   "id": "ff765aca",
   "metadata": {},
   "outputs": [],
   "source": [
    "\n",
    "if grade == 100:\n",
    "    print(grade+10)\n"
   ]
  },
  {
   "cell_type": "code",
   "execution_count": null,
   "id": "8607c035",
   "metadata": {},
   "outputs": [],
   "source": []
  },
  {
   "cell_type": "code",
   "execution_count": null,
   "id": "79a1e13c",
   "metadata": {},
   "outputs": [],
   "source": []
  }
 ],
 "metadata": {
  "kernelspec": {
   "display_name": "Python 3 (ipykernel)",
   "language": "python",
   "name": "python3"
  },
  "language_info": {
   "codemirror_mode": {
    "name": "ipython",
    "version": 3
   },
   "file_extension": ".py",
   "mimetype": "text/x-python",
   "name": "python",
   "nbconvert_exporter": "python",
   "pygments_lexer": "ipython3",
   "version": "3.11.5"
  }
 },
 "nbformat": 4,
 "nbformat_minor": 5
}
