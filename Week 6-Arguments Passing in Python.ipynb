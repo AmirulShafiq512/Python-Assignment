{
 "cells": [
  {
   "cell_type": "markdown",
   "id": "4e21dd7b",
   "metadata": {},
   "source": [
    "# Positional Arguments"
   ]
  },
  {
   "cell_type": "code",
   "execution_count": 36,
   "id": "125acb1c",
   "metadata": {},
   "outputs": [
    {
     "name": "stdout",
     "output_type": "stream",
     "text": [
      "Amirul is enrolled in Chemical Engineering Class 2026.\n"
     ]
    }
   ],
   "source": [
    "def student_information(class_name, student_name):\n",
    "    # Display information about a student and their class.\n",
    "    print(student_name + \" is enrolled in \" + class_name + \" Class 2026.\")\n",
    "# Positional arguments:\n",
    "student_information('Chemical Engineering', 'Amirul') #Follow order"
   ]
  },
  {
   "cell_type": "markdown",
   "id": "58aaa541",
   "metadata": {},
   "source": [
    "# Keyword Arguments"
   ]
  },
  {
   "cell_type": "code",
   "execution_count": 34,
   "id": "65402885",
   "metadata": {},
   "outputs": [
    {
     "name": "stdout",
     "output_type": "stream",
     "text": [
      "Alice is enrolled in Mathematics class.\n"
     ]
    }
   ],
   "source": [
    "def student_information(class_name, student_name):\n",
    "    # Display information about a student and their class.\n",
    "    print(student_name + \" is enrolled in \" + class_name + \" class.\")\n",
    "# Keyword arguments:\n",
    "student_information(class_name='Mathematics', student_name='Alice')\n",
    "#student_information(student_name='Alice', class_name='Maths')\n"
   ]
  },
  {
   "cell_type": "markdown",
   "id": "b8d36769",
   "metadata": {},
   "source": [
    "# Default Arguments"
   ]
  },
  {
   "cell_type": "code",
   "execution_count": 12,
   "id": "c89be0ba",
   "metadata": {},
   "outputs": [],
   "source": [
    "def enroll_student(student_name, course='Introduction to Python'):\n",
    "    # Enroll a student in a course with a default option.\n",
    "     print(\"Student Name: \" + student_name)\n",
    "     print(\"Enrolled Course: \" + course)\n"
   ]
  },
  {
   "cell_type": "code",
   "execution_count": 13,
   "id": "3345789a",
   "metadata": {},
   "outputs": [
    {
     "name": "stdout",
     "output_type": "stream",
     "text": [
      "Student Name: Amirul\n",
      "Enrolled Course: Pyhton\n"
     ]
    }
   ],
   "source": [
    "enroll_student(\"Amirul\", \"Pyhton\")"
   ]
  },
  {
   "cell_type": "code",
   "execution_count": 14,
   "id": "cb79900c",
   "metadata": {},
   "outputs": [
    {
     "name": "stdout",
     "output_type": "stream",
     "text": [
      "Student Name: Amirul\n",
      "Enrolled Course: Introduction to Python\n"
     ]
    }
   ],
   "source": [
    "enroll_student(\"Amirul\")"
   ]
  },
  {
   "attachments": {},
   "cell_type": "markdown",
   "id": "bf00491d",
   "metadata": {},
   "source": [
    "# Variable Length Arguments *args"
   ]
  },
  {
   "cell_type": "code",
   "execution_count": 15,
   "id": "1d6458c8",
   "metadata": {},
   "outputs": [],
   "source": [
    "def enroll_in_courses(student_name, *courses):\n",
    "    # Enroll a student in multiple courses.\n",
    "    print(\"Student: \" + student_name)\n",
    "    print(\"Enrolled in:\")\n",
    "    for course in courses:\n",
    "        print(\"- \" + course)"
   ]
  },
  {
   "cell_type": "code",
   "execution_count": 16,
   "id": "89ba68ab",
   "metadata": {},
   "outputs": [
    {
     "name": "stdout",
     "output_type": "stream",
     "text": [
      "Student: Amirul\n",
      "Enrolled in:\n",
      "- Data Structure\n",
      "- Physics\n",
      "- Chemical Engineering\n"
     ]
    }
   ],
   "source": [
    "enroll_in_courses(\"Amirul\", \"Data Structure\",\"Physics\",\"Chemical Engineering\")"
   ]
  },
  {
   "cell_type": "markdown",
   "id": "0e20e2da",
   "metadata": {},
   "source": [
    "# Variable Length Arguments **kwargs"
   ]
  },
  {
   "cell_type": "code",
   "execution_count": 26,
   "id": "8c4916df",
   "metadata": {},
   "outputs": [],
   "source": [
    "def enroll_student(student_name, **details):\n",
    "     # Enroll a student with additional details.\n",
    "    print(\"Enrolling \" + student_name + \" with the following details:\")\n",
    "    for detail, value in details.items():\n",
    "        print(\"- \" + detail + \" : \" + str(value))\n"
   ]
  },
  {
   "cell_type": "code",
   "execution_count": 29,
   "id": "cb81528e",
   "metadata": {},
   "outputs": [
    {
     "name": "stdout",
     "output_type": "stream",
     "text": [
      "Enrolling Amirul with the following details:\n",
      "- course : Algebra II\n",
      "- semester : One\n",
      "- payment_method : Credit Card\n",
      "- student_age : 23\n"
     ]
    }
   ],
   "source": [
    "# Example of enrolling a student with additional details:\n",
    "enroll_student('Amirul', course='Algebra II', semester='One', payment_method='Credit Card',student_age='23')\n"
   ]
  },
  {
   "cell_type": "code",
   "execution_count": null,
   "id": "50d226c1",
   "metadata": {},
   "outputs": [],
   "source": []
  }
 ],
 "metadata": {
  "kernelspec": {
   "display_name": "Python 3 (ipykernel)",
   "language": "python",
   "name": "python3"
  },
  "language_info": {
   "codemirror_mode": {
    "name": "ipython",
    "version": 3
   },
   "file_extension": ".py",
   "mimetype": "text/x-python",
   "name": "python",
   "nbconvert_exporter": "python",
   "pygments_lexer": "ipython3",
   "version": "3.11.5"
  }
 },
 "nbformat": 4,
 "nbformat_minor": 5
}
