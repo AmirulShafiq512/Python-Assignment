{
 "cells": [
  {
   "cell_type": "code",
   "execution_count": 2,
   "id": "cfdaa9a9",
   "metadata": {},
   "outputs": [
    {
     "name": "stdout",
     "output_type": "stream",
     "text": [
      "Filtered data has been saved to top_students.csv.\n"
     ]
    }
   ],
   "source": [
    "import csv\n",
    "\n",
    "# Function to read the CSV file and filter data\n",
    "def filter_students(input_file, output_file):\n",
    "    # Open the input CSV file\n",
    "    with open(input_file, 'r', newline='') as csvfile:\n",
    "        # Create a CSV reader object\n",
    "        reader = csv.DictReader(csvfile)\n",
    "\n",
    "        # Define the header for the output CSV file\n",
    "        header = reader.fieldnames + ['Status']\n",
    "\n",
    "        # Open the output CSV file\n",
    "        with open(output_file, 'w', newline='') as output_csvfile:\n",
    "            # Create a CSV writer object\n",
    "            writer = csv.DictWriter(output_csvfile, fieldnames=header)\n",
    "\n",
    "            # Write the header to the output file\n",
    "            writer.writeheader()\n",
    "\n",
    "            # Loop through each row in the input CSV file\n",
    "            for row in reader:\n",
    "                # Check if the grade is greater than or equal to 'B'\n",
    "                if row['Grade'] <= 'B':\n",
    "                    # Add a 'Status' column and set it to 'Passed'\n",
    "                    row['Status'] = 'Passed'\n",
    "\n",
    "                    # Write the filtered row to the output CSV file\n",
    "                    writer.writerow(row)\n",
    "\n",
    "# Specify the input and output file names\n",
    "input_file = 'students.csv'\n",
    "output_file = 'top_students.csv'\n",
    "\n",
    "# Call the function to filter and save the data\n",
    "filter_students(input_file, output_file)\n",
    "\n",
    "print(f\"Filtered data has been saved to {output_file}.\")"
   ]
  },
  {
   "cell_type": "markdown",
   "id": "a4dfd6b7",
   "metadata": {},
   "source": [
    "Exercise 1: Processing Student Data with Python"
   ]
  },
  {
   "cell_type": "markdown",
   "id": "b34a3d64",
   "metadata": {},
   "source": [
    "# Practice Exercise: Extracting State Population"
   ]
  },
  {
   "cell_type": "code",
   "execution_count": 1,
   "id": "88abc573",
   "metadata": {},
   "outputs": [
    {
     "name": "stdout",
     "output_type": "stream",
     "text": [
      "Enter the name of the state: Johor\n",
      "Population of Johor: 3794000\n"
     ]
    }
   ],
   "source": [
    "import requests\n",
    "api_url = \"https://jian.sh/malaysia-api/state/v1/all.json\"\n",
    "response = requests.get(api_url)\n",
    "malaysia_state_data = response.json()\n",
    "statename=input(\"Enter the name of the state: \")\n",
    "\n",
    "presence = False\n",
    "\n",
    "for state in malaysia_state_data:\n",
    "    if statename in state[\"state\"]:\n",
    "        if statename == state[\"state\"]:\n",
    "            print(\"Population of \" + statename +\": \" + str(state[\"population\"]))\n",
    "            presence = True\n",
    "            break\n",
    "if presence == False:\n",
    "    print(statename + \" is not found in the data.\")"
   ]
  },
  {
   "cell_type": "code",
   "execution_count": null,
   "id": "83647fea",
   "metadata": {},
   "outputs": [],
   "source": []
  }
 ],
 "metadata": {
  "kernelspec": {
   "display_name": "Python 3 (ipykernel)",
   "language": "python",
   "name": "python3"
  },
  "language_info": {
   "codemirror_mode": {
    "name": "ipython",
    "version": 3
   },
   "file_extension": ".py",
   "mimetype": "text/x-python",
   "name": "python",
   "nbconvert_exporter": "python",
   "pygments_lexer": "ipython3",
   "version": "3.11.5"
  }
 },
 "nbformat": 4,
 "nbformat_minor": 5
}
