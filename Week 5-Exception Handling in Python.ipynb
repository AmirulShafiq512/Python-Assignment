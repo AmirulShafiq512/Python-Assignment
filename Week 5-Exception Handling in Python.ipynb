{
 "cells": [
  {
   "cell_type": "code",
   "execution_count": 1,
   "id": "801b63cc",
   "metadata": {},
   "outputs": [
    {
     "name": "stdout",
     "output_type": "stream",
     "text": [
      "Enter a number: Xs\n"
     ]
    },
    {
     "ename": "ValueError",
     "evalue": "invalid literal for int() with base 10: 'Xs'",
     "output_type": "error",
     "traceback": [
      "\u001b[1;31m---------------------------------------------------------------------------\u001b[0m",
      "\u001b[1;31mValueError\u001b[0m                                Traceback (most recent call last)",
      "Cell \u001b[1;32mIn[1], line 1\u001b[0m\n\u001b[1;32m----> 1\u001b[0m number \u001b[38;5;241m=\u001b[39m \u001b[38;5;28mint\u001b[39m(\u001b[38;5;28minput\u001b[39m(\u001b[38;5;124m\"\u001b[39m\u001b[38;5;124mEnter a number: \u001b[39m\u001b[38;5;124m\"\u001b[39m))\n",
      "\u001b[1;31mValueError\u001b[0m: invalid literal for int() with base 10: 'Xs'"
     ]
    }
   ],
   "source": [
    "number = int(input(\"Enter a number: \"))  "
   ]
  },
  {
   "cell_type": "code",
   "execution_count": 10,
   "id": "9de517fb",
   "metadata": {},
   "outputs": [
    {
     "name": "stdout",
     "output_type": "stream",
     "text": [
      "The data that you input is not an integer\n"
     ]
    }
   ],
   "source": [
    "\n",
    "try:\n",
    "   x = \"2\" + 2\n",
    "  \n",
    "except TypeError:\n",
    "    print(\"The data that you input is not an integer\")\n",
    "  # Code that runs if the exception occurs\n",
    "\n",
    "\n"
   ]
  },
  {
   "cell_type": "code",
   "execution_count": 8,
   "id": "55459cc1",
   "metadata": {},
   "outputs": [
    {
     "ename": "TypeError",
     "evalue": "can only concatenate str (not \"int\") to str",
     "output_type": "error",
     "traceback": [
      "\u001b[1;31m---------------------------------------------------------------------------\u001b[0m",
      "\u001b[1;31mTypeError\u001b[0m                                 Traceback (most recent call last)",
      "Cell \u001b[1;32mIn[8], line 1\u001b[0m\n\u001b[1;32m----> 1\u001b[0m x \u001b[38;5;241m=\u001b[39m \u001b[38;5;124m\"\u001b[39m\u001b[38;5;124m2\u001b[39m\u001b[38;5;124m\"\u001b[39m \u001b[38;5;241m+\u001b[39m \u001b[38;5;241m2\u001b[39m\n",
      "\u001b[1;31mTypeError\u001b[0m: can only concatenate str (not \"int\") to str"
     ]
    }
   ],
   "source": [
    " x = \"2\" + 2"
   ]
  },
  {
   "cell_type": "code",
   "execution_count": 12,
   "id": "0cc8e750",
   "metadata": {},
   "outputs": [
    {
     "name": "stdout",
     "output_type": "stream",
     "text": [
      "Please enter a valid number: abc\n"
     ]
    },
    {
     "ename": "ValueError",
     "evalue": "invalid literal for int() with base 10: 'abc'",
     "output_type": "error",
     "traceback": [
      "\u001b[1;31m---------------------------------------------------------------------------\u001b[0m",
      "\u001b[1;31mValueError\u001b[0m                                Traceback (most recent call last)",
      "Cell \u001b[1;32mIn[12], line 1\u001b[0m\n\u001b[1;32m----> 1\u001b[0m number \u001b[38;5;241m=\u001b[39m \u001b[38;5;28mint\u001b[39m(\u001b[38;5;28minput\u001b[39m(\u001b[38;5;124m\"\u001b[39m\u001b[38;5;124mPlease enter a valid number: \u001b[39m\u001b[38;5;124m\"\u001b[39m))\n",
      "\u001b[1;31mValueError\u001b[0m: invalid literal for int() with base 10: 'abc'"
     ]
    }
   ],
   "source": [
    "number = int(input(\"Please enter a valid number: \"))  "
   ]
  },
  {
   "cell_type": "code",
   "execution_count": 15,
   "id": "1c96f0ea",
   "metadata": {},
   "outputs": [
    {
     "name": "stdout",
     "output_type": "stream",
     "text": [
      "Please enter a valid number: abc\n",
      "The input data is not a number\n"
     ]
    }
   ],
   "source": [
    "try:\n",
    "    number = int(input(\"Please enter a valid number: \")) \n",
    "except:\n",
    "    print(\"The input data is not a number\")\n",
    "    \n"
   ]
  },
  {
   "cell_type": "code",
   "execution_count": 21,
   "id": "1462c223",
   "metadata": {},
   "outputs": [],
   "source": [
    "my_list = [1,2,3]\n",
    "my_list = [3]\n"
   ]
  },
  {
   "cell_type": "code",
   "execution_count": 23,
   "id": "3b32a2a2",
   "metadata": {},
   "outputs": [
    {
     "name": "stdout",
     "output_type": "stream",
     "text": [
      "the value is exist in the list\n"
     ]
    }
   ],
   "source": [
    "my_list = [1,2,3]\n",
    "try:\n",
    "    my_list[2]\n",
    "    print(\"the value is exist in the list\")\n",
    "except:\n",
    "    print(\"the value is not exist\")"
   ]
  },
  {
   "cell_type": "code",
   "execution_count": 25,
   "id": "0fd1185f",
   "metadata": {},
   "outputs": [
    {
     "name": "stdout",
     "output_type": "stream",
     "text": [
      "Enter a number: abc\n",
      "That's not a number!\n",
      "This is executed no matter what!\n"
     ]
    }
   ],
   "source": [
    "\n",
    "try:\n",
    "    number = int(input(\"Enter a number: \"))\n",
    "except ValueError:\n",
    "    print(\"That's not a number!\")\n",
    "else:\n",
    "    print(\"You entered a number!\")\n",
    "finally:\n",
    "    print(\"This is executed no matter what!\")\n"
   ]
  },
  {
   "cell_type": "code",
   "execution_count": 32,
   "id": "0e910423",
   "metadata": {},
   "outputs": [
    {
     "ename": "SyntaxError",
     "evalue": "expected '(' (3261910755.py, line 1)",
     "output_type": "error",
     "traceback": [
      "\u001b[1;36m  Cell \u001b[1;32mIn[32], line 1\u001b[1;36m\u001b[0m\n\u001b[1;33m    def example:\u001b[0m\n\u001b[1;37m               ^\u001b[0m\n\u001b[1;31mSyntaxError\u001b[0m\u001b[1;31m:\u001b[0m expected '('\n"
     ]
    }
   ],
   "source": [
    "def example:\n",
    "    try:\n",
    "    number = int(input(\"Enter a number: \"))\n",
    "    except ValueError:\n",
    "        print(\"That's not a number!\")\n",
    "    else:\n",
    "        print(\"You entered a number!\")\n",
    "    finally:\n",
    "        return \"This is executed no matter what!\"\n",
    "    \n"
   ]
  },
  {
   "cell_type": "code",
   "execution_count": 4,
   "id": "d94a74ff",
   "metadata": {},
   "outputs": [
    {
     "name": "stdout",
     "output_type": "stream",
     "text": [
      "Enter a number: abc\n",
      "Please enter a valid integer.\n"
     ]
    }
   ],
   "source": [
    "try:\n",
    "    user_input = input(\"Enter a number: \")\n",
    "    result = 1 / int(user_input)\n",
    "    print(result)\n",
    "except ValueError:\n",
    "    print(\"Please enter a valid integer.\")\n",
    "except ZeroDivisionError:\n",
    "    print(\"Division by zero is not allowed.\")\n"
   ]
  },
  {
   "cell_type": "code",
   "execution_count": 5,
   "id": "14eae12f",
   "metadata": {},
   "outputs": [],
   "source": [
    "def simple_calculator():\n",
    "    while True:\n",
    "        try:\n",
    "            num1 = float(input(\"Enter the first number: \"))\n",
    "            num2 = float(input(\"Enter the second number: \"))\n",
    "            operation = input(\"Enter the operation (+, -, *, /): \")\n",
    "\n",
    "            if operation not in ('+', '-', '*', '/'):\n",
    "                raise Exception(\"Invalid operation. Please enter +, -, *, or /.\")\n",
    "\n",
    "            if operation == '+':\n",
    "                result = num1 + num2\n",
    "            elif operation == '-':\n",
    "                result = num1 - num2\n",
    "            elif operation == '*':\n",
    "                result = num1 * num2\n",
    "            else:\n",
    "                if num2 == 0:\n",
    "                    raise ZeroDivisionError(\"Division by zero is not allowed.\")\n",
    "                result = num1 / num2\n",
    "\n",
    "            print(f\"Result: {num1} {operation} {num2} = {result}\")\n",
    "            break\n",
    "\n",
    "        except ValueError:\n",
    "            print(\"Invalid input. Please enter valid numbers.\")\n",
    "        except ZeroDivisionError as e:\n",
    "            print(e)\n",
    "        except Exception as e:\n",
    "            print(e)\n",
    "\n",
    "\n",
    "\n",
    "\n",
    "\n"
   ]
  },
  {
   "cell_type": "code",
   "execution_count": null,
   "id": "6f551773",
   "metadata": {},
   "outputs": [],
   "source": [
    "def simple_calculator():\n",
    "    while True:\n",
    "        try:\n",
    "            # Get user input for numbers and operation\n",
    "            num1 = float(input(\"Enter the first number: \"))\n",
    "            num2 = float(input(\"Enter the second number: \"))\n",
    "            operation = input(\"Enter the operation (+, -, *, /): \")\n",
    "\n",
    "            # Perform the chosen operation\n",
    "            if operation == '+':\n",
    "                result = num1 + num2\n",
    "            elif operation == '-':\n",
    "                result = num1 - num2\n",
    "            elif operation == '*':\n",
    "                result = num1 * num2\n",
    "            elif operation == '/':\n",
    "                # Check for division by zero\n",
    "                if num2 == 0:\n",
    "                    raise ZeroDivisionError(\"Cannot divide by zero. Please enter a non-zero second number.\")\n",
    "                result = num1 / num2\n",
    "            else:\n",
    "                raise ValueError(\"Invalid operation. Please enter +, -, *, or /.\")\n",
    "\n",
    "            # Display the result\n",
    "            print(\"Result:\", result)\n",
    "            break  # Break out of the loop if successful\n",
    "\n",
    "        except ValueError as ve:\n",
    "            print(f\"Error: {ve}. Please enter valid numbers.\")\n",
    "        except ZeroDivisionError as zde:\n",
    "            print(f\"Error: {zde}\")\n",
    "        except Exception as e:\n",
    "            print(f\"An unexpected error occurred: {e}. Please try again.\")\n",
    "\n",
    "# Call the function to run the calculator\n",
    "simple_calculator()"
   ]
  },
  {
   "cell_type": "code",
   "execution_count": null,
   "id": "eb6cdbdc",
   "metadata": {},
   "outputs": [],
   "source": []
  }
 ],
 "metadata": {
  "kernelspec": {
   "display_name": "Python 3 (ipykernel)",
   "language": "python",
   "name": "python3"
  },
  "language_info": {
   "codemirror_mode": {
    "name": "ipython",
    "version": 3
   },
   "file_extension": ".py",
   "mimetype": "text/x-python",
   "name": "python",
   "nbconvert_exporter": "python",
   "pygments_lexer": "ipython3",
   "version": "3.11.5"
  }
 },
 "nbformat": 4,
 "nbformat_minor": 5
}
