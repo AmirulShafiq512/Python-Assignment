{
 "cells": [
  {
   "cell_type": "code",
   "execution_count": 1,
   "id": "eead09ca",
   "metadata": {},
   "outputs": [
    {
     "name": "stdout",
     "output_type": "stream",
     "text": [
      "Checkout processed by John Doe.\n",
      "Books checked out: The Great Gatsby, To Kill a Mockingbird\n",
      "Duration: 3 weeks\n",
      "Late Fee: 1.5\n",
      "Special Conditions: Handle with care\n"
     ]
    }
   ],
   "source": [
    "def checkout_books(librarian_name, *book_titles, duration='2 weeks', **kwargs):\n",
    "    \"\"\"\n",
    "    Manage book checkouts at a library.\n",
    "\n",
    "    Parameters:\n",
    "    - librarian_name (str): Name of the librarian processing the checkout.\n",
    "    - book_titles (str): One or more book titles being checked out.\n",
    "    - duration (str, optional): Standard checkout duration. Defaults to '2 weeks'.\n",
    "    - kwargs (dict): Additional information about the checkout, such as late_fee per day or special_conditions.\n",
    "\n",
    "    Returns:\n",
    "    - str: Confirmation message for the checkout process.\n",
    "    \"\"\"\n",
    "    checkout_info = {\n",
    "        'Librarian': librarian_name,\n",
    "        'Book Titles': book_titles,\n",
    "        'Duration': duration,\n",
    "    }\n",
    "\n",
    "    # Adding additional information from kwargs\n",
    "    for key, value in kwargs.items():\n",
    "        checkout_info[key] = value\n",
    "\n",
    "    # Generate confirmation message\n",
    "    confirmation_message = f\"Checkout processed by {librarian_name}.\"\n",
    "    confirmation_message += f\"\\nBooks checked out: {', '.join(book_titles)}\"\n",
    "    confirmation_message += f\"\\nDuration: {duration}\"\n",
    "\n",
    "    # Include additional information from kwargs in the confirmation message\n",
    "    for key, value in kwargs.items():\n",
    "        confirmation_message += f\"\\n{key.replace('_', ' ').title()}: {value}\"\n",
    "\n",
    "    return confirmation_message\n",
    "\n",
    "# Example usage:\n",
    "librarian_name = \"John Doe\"\n",
    "book_titles = [\"The Great Gatsby\", \"To Kill a Mockingbird\"]\n",
    "duration = \"3 weeks\"\n",
    "late_fee = 1.5  # Late fee per day\n",
    "special_conditions = \"Handle with care\"\n",
    "\n",
    "result = checkout_books(librarian_name, *book_titles, duration=duration, late_fee=late_fee, special_conditions=special_conditions)\n",
    "print(result)"
   ]
  },
  {
   "cell_type": "code",
   "execution_count": 2,
   "id": "ebcbd389",
   "metadata": {},
   "outputs": [
    {
     "name": "stdout",
     "output_type": "stream",
     "text": [
      "Checkout Processed by: Sarah Connor.\n",
      "Books Checked Out:\n",
      "- 1984, Brave New World\n",
      "Checkout Duration: 3 weeks\n",
      "Additional Checkout Details:\n",
      "- Late Fee: 0.25\n",
      "- Renewals Allowed: 2\n",
      "- Special Conditions: Handle with care\n"
     ]
    }
   ],
   "source": [
    "def checkout_books(librarian_name, *book_titles, duration='2 weeks', **kwargs):\n",
    "    \"\"\"\n",
    "    Manage book checkouts at a library.\n",
    "\n",
    "    Parameters:\n",
    "    - librarian_name (str): Name of the librarian processing the checkout.\n",
    "    - book_titles (str): One or more book titles being checked out.\n",
    "    - duration (str, optional): Standard checkout duration. Defaults to '2 weeks'.\n",
    "    - kwargs (dict): Additional information about the checkout, such as late_fee per day or special_conditions.\n",
    "\n",
    "    Returns:\n",
    "    - str: Confirmation message for the checkout process.\n",
    "    \"\"\"\n",
    "    checkout_info = {\n",
    "        'Librarian': librarian_name,\n",
    "        'Book Titles': book_titles,\n",
    "        'Duration': duration,\n",
    "    }\n",
    "\n",
    "    # Adding additional information from kwargs\n",
    "    for key, value in kwargs.items():\n",
    "        checkout_info[key] = value\n",
    "\n",
    "    # Generate confirmation message\n",
    "    confirmation_message = f\"Checkout Processed by: {librarian_name}.\"\n",
    "    confirmation_message += f\"\\nBooks Checked Out:\\n- {', '.join(book_titles)}\"\n",
    "    confirmation_message += f\"\\nCheckout Duration: {duration}\"\n",
    "\n",
    "    # Include additional information from kwargs in the confirmation message\n",
    "    confirmation_message += \"\\nAdditional Checkout Details:\"\n",
    "    for key, value in kwargs.items():\n",
    "        confirmation_message += f\"\\n- {key.replace('_', ' ').title()}: {value}\"\n",
    "\n",
    "    return confirmation_message\n",
    "\n",
    "# Example usage:\n",
    "librarian_name = \"Sarah Connor\"\n",
    "book_titles = [\"1984\", \"Brave New World\"]\n",
    "duration = \"3 weeks\"\n",
    "late_fee = 0.25  # Late fee per day\n",
    "renewals_allowed = 2\n",
    "special_conditions = \"Handle with care\"\n",
    "\n",
    "result = checkout_books(\n",
    "    librarian_name,\n",
    "    *book_titles,\n",
    "    duration=duration,\n",
    "    late_fee=late_fee,\n",
    "    renewals_allowed=renewals_allowed,\n",
    "    special_conditions=special_conditions\n",
    ")\n",
    "print(result)"
   ]
  },
  {
   "cell_type": "code",
   "execution_count": null,
   "id": "44f4c245",
   "metadata": {},
   "outputs": [],
   "source": []
  }
 ],
 "metadata": {
  "kernelspec": {
   "display_name": "Python 3 (ipykernel)",
   "language": "python",
   "name": "python3"
  },
  "language_info": {
   "codemirror_mode": {
    "name": "ipython",
    "version": 3
   },
   "file_extension": ".py",
   "mimetype": "text/x-python",
   "name": "python",
   "nbconvert_exporter": "python",
   "pygments_lexer": "ipython3",
   "version": "3.11.5"
  }
 },
 "nbformat": 4,
 "nbformat_minor": 5
}
