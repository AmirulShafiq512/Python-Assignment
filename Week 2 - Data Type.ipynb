{
 "cells": [
  {
   "cell_type": "code",
   "execution_count": 13,
   "id": "a638fad4",
   "metadata": {},
   "outputs": [
    {
     "data": {
      "text/plain": [
       "str"
      ]
     },
     "execution_count": 13,
     "metadata": {},
     "output_type": "execute_result"
    }
   ],
   "source": [
    "x = \"10\"\n",
    "y = 20\n",
    "\n",
    "type(x)\n",
    "#define the data type\n"
   ]
  },
  {
   "cell_type": "code",
   "execution_count": 8,
   "id": "a0a81892",
   "metadata": {},
   "outputs": [
    {
     "name": "stdout",
     "output_type": "stream",
     "text": [
      "30\n"
     ]
    }
   ],
   "source": [
    "def sum (a,b):\n",
    "    # a function that adds two parameters\n",
    "    return a+b\n",
    "print(sum(20,10))"
   ]
  },
  {
   "cell_type": "code",
   "execution_count": 9,
   "id": "2b498ac5",
   "metadata": {},
   "outputs": [
    {
     "name": "stdout",
     "output_type": "stream",
     "text": [
      "10\n"
     ]
    }
   ],
   "source": [
    "def sub (a,b):\n",
    "    # a function that substracts two parameters\n",
    "    return (a-b)\n",
    "print(sub(20,10))"
   ]
  },
  {
   "cell_type": "code",
   "execution_count": 15,
   "id": "5f1b1fe4",
   "metadata": {},
   "outputs": [
    {
     "name": "stdout",
     "output_type": "stream",
     "text": [
      "30\n"
     ]
    }
   ],
   "source": [
    "x=10\n",
    "y=20\n",
    "z=x+y\n",
    "print (z)"
   ]
  },
  {
   "cell_type": "code",
   "execution_count": 24,
   "id": "e2a8b0d3",
   "metadata": {},
   "outputs": [
    {
     "name": "stdout",
     "output_type": "stream",
     "text": [
      "bye\n"
     ]
    }
   ],
   "source": [
    "x=11\n",
    "y=20\n",
    "if x==10:\n",
    "    print(\"Hello\")\n",
    "else:\n",
    "    print(\"bye\")\n",
    "        \n",
    "        "
   ]
  },
  {
   "cell_type": "code",
   "execution_count": 25,
   "id": "ca939675",
   "metadata": {},
   "outputs": [
    {
     "name": "stdout",
     "output_type": "stream",
     "text": [
      "Hello\n"
     ]
    }
   ],
   "source": [
    "x=\"amirul\"\n",
    "y=20\n",
    "if isinstance(x, str): #determine integer or string, \"\" refer to string, 10 or any number(value) refer to integer\n",
    "    print(\"Hello\")\n",
    "else:\n",
    "    print(\"bye\")"
   ]
  },
  {
   "cell_type": "code",
   "execution_count": 83,
   "id": "c5d92119",
   "metadata": {},
   "outputs": [
    {
     "name": "stdout",
     "output_type": "stream",
     "text": [
      "10000\n"
     ]
    }
   ],
   "source": [
    "x=100\n",
    "y=20\n",
    "z= x*x\n",
    "\n",
    "print (z)"
   ]
  },
  {
   "cell_type": "code",
   "execution_count": 34,
   "id": "694594e1",
   "metadata": {},
   "outputs": [
    {
     "data": {
      "text/plain": [
       "3"
      ]
     },
     "execution_count": 34,
     "metadata": {},
     "output_type": "execute_result"
    }
   ],
   "source": [
    "x=['Sara', 'Ahmed', 'Mouna']\n",
    "\n",
    "len(x) #give number of data\n"
   ]
  },
  {
   "cell_type": "code",
   "execution_count": 38,
   "id": "9ccfed2f",
   "metadata": {},
   "outputs": [
    {
     "data": {
      "text/plain": [
       "range(0, 100)"
      ]
     },
     "execution_count": 38,
     "metadata": {},
     "output_type": "execute_result"
    }
   ],
   "source": [
    "range(100) #immutable = cannot update the item?\n",
    "#range from 0 to 100"
   ]
  },
  {
   "cell_type": "code",
   "execution_count": 53,
   "id": "90966dd2",
   "metadata": {},
   "outputs": [
    {
     "name": "stdout",
     "output_type": "stream",
     "text": [
      "{'name': 'Sara', 'age': 22}\n"
     ]
    }
   ],
   "source": [
    "student = {\n",
    "    \"name\":\"Sara\",\n",
    "    \"age\": 22\n",
    "}\n",
    "print(student) #if student.values(), it shows Sara, 22. If student.keys(), it shows name, age. If student[\"age\"], show 22"
   ]
  },
  {
   "cell_type": "code",
   "execution_count": 69,
   "id": "29d3f3f7",
   "metadata": {},
   "outputs": [
    {
     "name": "stdout",
     "output_type": "stream",
     "text": [
      "30\n"
     ]
    }
   ],
   "source": [
    "def add(a,b):\n",
    "    return a+b\n",
    "print(add(20,10))"
   ]
  },
  {
   "cell_type": "code",
   "execution_count": 59,
   "id": "bd7bb5e7",
   "metadata": {},
   "outputs": [
    {
     "name": "stdout",
     "output_type": "stream",
     "text": [
      "200\n"
     ]
    }
   ],
   "source": [
    "def mult(a,b):\n",
    "    # a function that multiplies two parameters\n",
    "    return a*b\n",
    "print(mult(20,10))"
   ]
  },
  {
   "cell_type": "code",
   "execution_count": 60,
   "id": "4b11dbcd",
   "metadata": {},
   "outputs": [
    {
     "name": "stdout",
     "output_type": "stream",
     "text": [
      "2.0\n"
     ]
    }
   ],
   "source": [
    "def divi(a,b):\n",
    "    # a function that divides two parameters\n",
    "    return a/b\n",
    "print(divi(20,10))"
   ]
  },
  {
   "cell_type": "code",
   "execution_count": 70,
   "id": "9e05808b",
   "metadata": {},
   "outputs": [
    {
     "data": {
      "text/plain": [
       "30"
      ]
     },
     "execution_count": 70,
     "metadata": {},
     "output_type": "execute_result"
    }
   ],
   "source": [
    "def add(a,b):\n",
    "    z=a+b\n",
    "    return(z)\n",
    "a=20\n",
    "b=10\n",
    "add(20,10)"
   ]
  },
  {
   "cell_type": "code",
   "execution_count": null,
   "id": "b654f1f8",
   "metadata": {},
   "outputs": [],
   "source": []
  },
  {
   "cell_type": "code",
   "execution_count": 1,
   "id": "433cb07a",
   "metadata": {},
   "outputs": [
    {
     "name": "stdout",
     "output_type": "stream",
     "text": [
      "Please enter the name of the subject: Chemistry\n",
      "The subject is available\n"
     ]
    }
   ],
   "source": [
    "subjects = [\"Software\", \"Chemistry\", \"English\", \"Arabic\"]\n",
    "\n",
    "def subject_availability(subject_name):\n",
    "    if(is_available(subject_name)):\n",
    "        return \"The subject is available\"\n",
    "    else:\n",
    "        return \"The subject is not available\"\n",
    "def is_available(subject_name):\n",
    "    return subject_name in subjects\n",
    "\n",
    "input_subject = input(\"Please enter the name of the subject: \")\n",
    "print(subject_availability(input_subject))"
   ]
  },
  {
   "cell_type": "code",
   "execution_count": null,
   "id": "a0198362",
   "metadata": {},
   "outputs": [],
   "source": []
  }
 ],
 "metadata": {
  "kernelspec": {
   "display_name": "Python 3 (ipykernel)",
   "language": "python",
   "name": "python3"
  },
  "language_info": {
   "codemirror_mode": {
    "name": "ipython",
    "version": 3
   },
   "file_extension": ".py",
   "mimetype": "text/x-python",
   "name": "python",
   "nbconvert_exporter": "python",
   "pygments_lexer": "ipython3",
   "version": "3.11.5"
  }
 },
 "nbformat": 4,
 "nbformat_minor": 5
}
