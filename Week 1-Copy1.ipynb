{
 "cells": [
  {
   "cell_type": "code",
   "execution_count": 4,
   "id": "89cb05d1",
   "metadata": {},
   "outputs": [
    {
     "name": "stdout",
     "output_type": "stream",
     "text": [
      "Enter your marks:79\n",
      "Grade B, Good\n"
     ]
    }
   ],
   "source": [
    "grade = int(input(\"Enter your marks:\"))\n",
    "if grade > 80:\n",
    "    print(\"Grade A, Congratulations!\")\n",
    "elif grade > 70:\n",
    "    print(\"Grade B, Good\")\n",
    "elif grade > 60:\n",
    "    print(\"C, Pass\")\n",
    "else:\n",
    "    print(\"Fail\")\n"
   ]
  },
  {
   "cell_type": "code",
   "execution_count": 2,
   "id": "3c291322",
   "metadata": {},
   "outputs": [
    {
     "name": "stdout",
     "output_type": "stream",
     "text": [
      "<class 'int'>\n"
     ]
    }
   ],
   "source": [
    "print(type(grade))\n"
   ]
  },
  {
   "cell_type": "code",
   "execution_count": 7,
   "id": "dd8e26a8",
   "metadata": {},
   "outputs": [],
   "source": [
    "grade = int(grade)\n",
    "if grade == 100:\n",
    "    print(grade+10)\n",
    "    \n"
   ]
  }
 ],
 "metadata": {
  "kernelspec": {
   "display_name": "Python 3 (ipykernel)",
   "language": "python",
   "name": "python3"
  },
  "language_info": {
   "codemirror_mode": {
    "name": "ipython",
    "version": 3
   },
   "file_extension": ".py",
   "mimetype": "text/x-python",
   "name": "python",
   "nbconvert_exporter": "python",
   "pygments_lexer": "ipython3",
   "version": "3.11.5"
  }
 },
 "nbformat": 4,
 "nbformat_minor": 5
}
